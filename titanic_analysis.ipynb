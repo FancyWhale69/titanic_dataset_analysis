{
 "cells": [
  {
   "cell_type": "markdown",
   "id": "rapid-authentication",
   "metadata": {},
   "source": [
    "# Goal\n",
    "\n",
    "The goal is to analyise the [titanic](https://www.kaggle.com/c/titanic/data) data set to answer 3 questions:  \n",
    "1- does gender affect survival rate?  \n",
    "2- does ticket class affect survival rate?  \n",
    "3- does having parent/childe affect survival rate?  \n",
    "finally you can use the trained model to predict wethier you will survive or not."
   ]
  },
  {
   "cell_type": "markdown",
   "id": "bronze-spectrum",
   "metadata": {},
   "source": [
    "# imports"
   ]
  },
  {
   "cell_type": "code",
   "execution_count": 3,
   "id": "divine-phrase",
   "metadata": {},
   "outputs": [],
   "source": [
    "import numpy as np\n",
    "import pandas as pd\n",
    "import matplotlib.pyplot as plt\n",
    "import seaborn as sns\n",
    "from sklearn.model_selection import train_test_split\n",
    "from sklearn.metrics import classification_report, confusion_matrix, r2_score"
   ]
  },
  {
   "cell_type": "markdown",
   "id": "neural-percentage",
   "metadata": {},
   "source": [
    "## Cleaning (dealing with NaNs)"
   ]
  },
  {
   "cell_type": "code",
   "execution_count": 321,
   "id": "cutting-orientation",
   "metadata": {},
   "outputs": [
    {
     "name": "stdout",
     "output_type": "stream",
     "text": [
      "<class 'pandas.core.frame.DataFrame'>\n",
      "RangeIndex: 891 entries, 0 to 890\n",
      "Data columns (total 12 columns):\n",
      " #   Column       Non-Null Count  Dtype  \n",
      "---  ------       --------------  -----  \n",
      " 0   PassengerId  891 non-null    int64  \n",
      " 1   Survived     891 non-null    int64  \n",
      " 2   Pclass       891 non-null    int64  \n",
      " 3   Name         891 non-null    object \n",
      " 4   Sex          891 non-null    object \n",
      " 5   Age          714 non-null    float64\n",
      " 6   SibSp        891 non-null    int64  \n",
      " 7   Parch        891 non-null    int64  \n",
      " 8   Ticket       891 non-null    object \n",
      " 9   Fare         891 non-null    float64\n",
      " 10  Cabin        204 non-null    object \n",
      " 11  Embarked     889 non-null    object \n",
      "dtypes: float64(2), int64(5), object(5)\n",
      "memory usage: 83.7+ KB\n"
     ]
    }
   ],
   "source": [
    "df= pd.read_csv('titanic/train.csv')\n",
    "#quick look at the data\n",
    "df.info()"
   ]
  },
  {
   "cell_type": "code",
   "execution_count": 41,
   "id": "average-rebecca",
   "metadata": {},
   "outputs": [
    {
     "data": {
      "text/plain": [
       "<AxesSubplot:>"
      ]
     },
     "execution_count": 41,
     "metadata": {},
     "output_type": "execute_result"
    },
    {
     "data": {
      "image/png": "[encoded data removed]",
      "text/plain": [
       "<Figure size 432x288 with 2 Axes>"
      ]
     },
     "metadata": {
      "needs_background": "light"
     },
     "output_type": "display_data"
    }
   ],
   "source": [
    "#check for null values\n",
    "sns.heatmap(df.isnull())"
   ]
  },
  {
   "cell_type": "code",
   "execution_count": 45,
   "id": "vital-tract",
   "metadata": {},
   "outputs": [
    {
     "data": {
      "text/plain": [
       "Cabin          0.771044\n",
       "Age            0.198653\n",
       "Embarked       0.002245\n",
       "PassengerId    0.000000\n",
       "Survived       0.000000\n",
       "Pclass         0.000000\n",
       "Name           0.000000\n",
       "Sex            0.000000\n",
       "SibSp          0.000000\n",
       "Parch          0.000000\n",
       "Ticket         0.000000\n",
       "Fare           0.000000\n",
       "dtype: float64"
      ]
     },
     "execution_count": 45,
     "metadata": {},
     "output_type": "execute_result"
    }
   ],
   "source": [
    "#get % of nulls\n",
    "(df.isnull().sum()/len(df)).sort_values(ascending=False)"
   ]
  },
  {
   "cell_type": "code",
   "execution_count": 38,
   "id": "induced-delay",
   "metadata": {},
   "outputs": [
    {
     "data": {
      "text/plain": [
       "Sex\n",
       "female    27.915709\n",
       "male      30.726645\n",
       "Name: Age, dtype: float64"
      ]
     },
     "execution_count": 38,
     "metadata": {},
     "output_type": "execute_result"
    }
   ],
   "source": [
    "#Try to impute the age column\n",
    "#age based on Sex\n",
    "df['Age'].groupby(df['Sex']).mean()"
   ]
  },
  {
   "cell_type": "code",
   "execution_count": 53,
   "id": "extraordinary-diameter",
   "metadata": {},
   "outputs": [
    {
     "data": {
      "text/plain": [
       "Sex     Pclass\n",
       "female  1         34.611765\n",
       "        2         28.722973\n",
       "        3         21.750000\n",
       "male    1         41.281386\n",
       "        2         30.740707\n",
       "        3         26.507589\n",
       "Name: Age, dtype: float64"
      ]
     },
     "execution_count": 53,
     "metadata": {},
     "output_type": "execute_result"
    }
   ],
   "source": [
    "#age based on Sex and Pclass\n",
    "df['Age'].groupby([df['Sex'], df['Pclass']]).mean()"
   ]
  },
  {
   "cell_type": "code",
   "execution_count": 85,
   "id": "bright-measurement",
   "metadata": {},
   "outputs": [
    {
     "data": {
      "text/html": [
       "<div>\n",
       "<style scoped>\n",
       "    .dataframe tbody tr th:only-of-type {\n",
       "        vertical-align: middle;\n",
       "    }\n",
       "\n",
       "    .dataframe tbody tr th {\n",
       "        vertical-align: top;\n",
       "    }\n",
       "\n",
       "    .dataframe thead th {\n",
       "        text-align: right;\n",
       "    }\n",
       "</style>\n",
       "<table border=\"1\" class=\"dataframe\">\n",
       "  <thead>\n",
       "    <tr style=\"text-align: right;\">\n",
       "      <th></th>\n",
       "      <th>PassengerId</th>\n",
       "      <th>Survived</th>\n",
       "      <th>Pclass</th>\n",
       "      <th>Name</th>\n",
       "      <th>Sex</th>\n",
       "      <th>Age</th>\n",
       "      <th>SibSp</th>\n",
       "      <th>Parch</th>\n",
       "      <th>Ticket</th>\n",
       "      <th>Fare</th>\n",
       "      <th>Cabin</th>\n",
       "      <th>Embarked</th>\n",
       "    </tr>\n",
       "  </thead>\n",
       "  <tbody>\n",
       "    <tr>\n",
       "      <th>0</th>\n",
       "      <td>1</td>\n",
       "      <td>0</td>\n",
       "      <td>3</td>\n",
       "      <td>Braund, Mr. Owen Harris</td>\n",
       "      <td>male</td>\n",
       "      <td>22.0</td>\n",
       "      <td>1</td>\n",
       "      <td>0</td>\n",
       "      <td>A/5 21171</td>\n",
       "      <td>7.2500</td>\n",
       "      <td>NaN</td>\n",
       "      <td>S</td>\n",
       "    </tr>\n",
       "    <tr>\n",
       "      <th>1</th>\n",
       "      <td>2</td>\n",
       "      <td>1</td>\n",
       "      <td>1</td>\n",
       "      <td>Cumings, Mrs. John Bradley (Florence Briggs Th...</td>\n",
       "      <td>female</td>\n",
       "      <td>38.0</td>\n",
       "      <td>1</td>\n",
       "      <td>0</td>\n",
       "      <td>PC 17599</td>\n",
       "      <td>71.2833</td>\n",
       "      <td>C85</td>\n",
       "      <td>C</td>\n",
       "    </tr>\n",
       "    <tr>\n",
       "      <th>2</th>\n",
       "      <td>3</td>\n",
       "      <td>1</td>\n",
       "      <td>3</td>\n",
       "      <td>Heikkinen, Miss. Laina</td>\n",
       "      <td>female</td>\n",
       "      <td>26.0</td>\n",
       "      <td>0</td>\n",
       "      <td>0</td>\n",
       "      <td>STON/O2. 3101282</td>\n",
       "      <td>7.9250</td>\n",
       "      <td>NaN</td>\n",
       "      <td>S</td>\n",
       "    </tr>\n",
       "    <tr>\n",
       "      <th>3</th>\n",
       "      <td>4</td>\n",
       "      <td>1</td>\n",
       "      <td>1</td>\n",
       "      <td>Futrelle, Mrs. Jacques Heath (Lily May Peel)</td>\n",
       "      <td>female</td>\n",
       "      <td>35.0</td>\n",
       "      <td>1</td>\n",
       "      <td>0</td>\n",
       "      <td>113803</td>\n",
       "      <td>53.1000</td>\n",
       "      <td>C123</td>\n",
       "      <td>S</td>\n",
       "    </tr>\n",
       "    <tr>\n",
       "      <th>4</th>\n",
       "      <td>5</td>\n",
       "      <td>0</td>\n",
       "      <td>3</td>\n",
       "      <td>Allen, Mr. William Henry</td>\n",
       "      <td>male</td>\n",
       "      <td>35.0</td>\n",
       "      <td>0</td>\n",
       "      <td>0</td>\n",
       "      <td>373450</td>\n",
       "      <td>8.0500</td>\n",
       "      <td>NaN</td>\n",
       "      <td>S</td>\n",
       "    </tr>\n",
       "    <tr>\n",
       "      <th>5</th>\n",
       "      <td>6</td>\n",
       "      <td>0</td>\n",
       "      <td>3</td>\n",
       "      <td>Moran, Mr. James</td>\n",
       "      <td>male</td>\n",
       "      <td>NaN</td>\n",
       "      <td>0</td>\n",
       "      <td>0</td>\n",
       "      <td>330877</td>\n",
       "      <td>8.4583</td>\n",
       "      <td>NaN</td>\n",
       "      <td>Q</td>\n",
       "    </tr>\n",
       "    <tr>\n",
       "      <th>6</th>\n",
       "      <td>7</td>\n",
       "      <td>0</td>\n",
       "      <td>1</td>\n",
       "      <td>McCarthy, Mr. Timothy J</td>\n",
       "      <td>male</td>\n",
       "      <td>54.0</td>\n",
       "      <td>0</td>\n",
       "      <td>0</td>\n",
       "      <td>17463</td>\n",
       "      <td>51.8625</td>\n",
       "      <td>E46</td>\n",
       "      <td>S</td>\n",
       "    </tr>\n",
       "    <tr>\n",
       "      <th>7</th>\n",
       "      <td>8</td>\n",
       "      <td>0</td>\n",
       "      <td>3</td>\n",
       "      <td>Palsson, Master. Gosta Leonard</td>\n",
       "      <td>male</td>\n",
       "      <td>2.0</td>\n",
       "      <td>3</td>\n",
       "      <td>1</td>\n",
       "      <td>349909</td>\n",
       "      <td>21.0750</td>\n",
       "      <td>NaN</td>\n",
       "      <td>S</td>\n",
       "    </tr>\n",
       "    <tr>\n",
       "      <th>8</th>\n",
       "      <td>9</td>\n",
       "      <td>1</td>\n",
       "      <td>3</td>\n",
       "      <td>Johnson, Mrs. Oscar W (Elisabeth Vilhelmina Berg)</td>\n",
       "      <td>female</td>\n",
       "      <td>27.0</td>\n",
       "      <td>0</td>\n",
       "      <td>2</td>\n",
       "      <td>347742</td>\n",
       "      <td>11.1333</td>\n",
       "      <td>NaN</td>\n",
       "      <td>S</td>\n",
       "    </tr>\n",
       "    <tr>\n",
       "      <th>9</th>\n",
       "      <td>10</td>\n",
       "      <td>1</td>\n",
       "      <td>2</td>\n",
       "      <td>Nasser, Mrs. Nicholas (Adele Achem)</td>\n",
       "      <td>female</td>\n",
       "      <td>14.0</td>\n",
       "      <td>1</td>\n",
       "      <td>0</td>\n",
       "      <td>237736</td>\n",
       "      <td>30.0708</td>\n",
       "      <td>NaN</td>\n",
       "      <td>C</td>\n",
       "    </tr>\n",
       "  </tbody>\n",
       "</table>\n",
       "</div>"
      ],
      "text/plain": [
       "   PassengerId  Survived  Pclass  \\\n",
       "0            1         0       3   \n",
       "1            2         1       1   \n",
       "2            3         1       3   \n",
       "3            4         1       1   \n",
       "4            5         0       3   \n",
       "5            6         0       3   \n",
       "6            7         0       1   \n",
       "7            8         0       3   \n",
       "8            9         1       3   \n",
       "9           10         1       2   \n",
       "\n",
       "                                                Name     Sex   Age  SibSp  \\\n",
       "0                            Braund, Mr. Owen Harris    male  22.0      1   \n",
       "1  Cumings, Mrs. John Bradley (Florence Briggs Th...  female  38.0      1   \n",
       "2                             Heikkinen, Miss. Laina  female  26.0      0   \n",
       "3       Futrelle, Mrs. Jacques Heath (Lily May Peel)  female  35.0      1   \n",
       "4                           Allen, Mr. William Henry    male  35.0      0   \n",
       "5                                   Moran, Mr. James    male   NaN      0   \n",
       "6                            McCarthy, Mr. Timothy J    male  54.0      0   \n",
       "7                     Palsson, Master. Gosta Leonard    male   2.0      3   \n",
       "8  Johnson, Mrs. Oscar W (Elisabeth Vilhelmina Berg)  female  27.0      0   \n",
       "9                Nasser, Mrs. Nicholas (Adele Achem)  female  14.0      1   \n",
       "\n",
       "   Parch            Ticket     Fare Cabin Embarked  \n",
       "0      0         A/5 21171   7.2500   NaN        S  \n",
       "1      0          PC 17599  71.2833   C85        C  \n",
       "2      0  STON/O2. 3101282   7.9250   NaN        S  \n",
       "3      0            113803  53.1000  C123        S  \n",
       "4      0            373450   8.0500   NaN        S  \n",
       "5      0            330877   8.4583   NaN        Q  \n",
       "6      0             17463  51.8625   E46        S  \n",
       "7      1            349909  21.0750   NaN        S  \n",
       "8      2            347742  11.1333   NaN        S  \n",
       "9      0            237736  30.0708   NaN        C  "
      ]
     },
     "execution_count": 85,
     "metadata": {},
     "output_type": "execute_result"
    }
   ],
   "source": [
    "#Since the second approch gices as more verity we will go with it\n",
    "df.head(10)"
   ]
  },
  {
   "cell_type": "code",
   "execution_count": 82,
   "id": "banned-bidder",
   "metadata": {},
   "outputs": [],
   "source": [
    "#fill missing values\n",
    "def fill_age(col):\n",
    "    \"\"\"\n",
    "    input- dataframe with 3 columns in order (Sex, Pclass, Age)\n",
    "    ------------------\n",
    "    output- return the average age based on Pclass and Sex\n",
    "    \"\"\"\n",
    "    aa={'male': {1: 41.0, 2: 31.0, 3: 27.0},\n",
    "         'female': {1: 35.0, 2: 29.0, 3: 22.0}}\n",
    "    if pd.isnull(col[2]):\n",
    "        return aa[col[0]][col[1]]\n",
    "    else:\n",
    "        return col[2]\n",
    "    \n",
    "df['Age']= df[['Sex','Pclass', 'Age']].apply(fill_age, axis=1)"
   ]
  },
  {
   "cell_type": "code",
   "execution_count": 102,
   "id": "international-budget",
   "metadata": {},
   "outputs": [],
   "source": [
    "#drop Cabin because 77% is null and there is no meaningful way ti fill it\n",
    "df.drop('Cabin', inplace=True, axis=1)"
   ]
  },
  {
   "cell_type": "code",
   "execution_count": 112,
   "id": "amended-swift",
   "metadata": {},
   "outputs": [
    {
     "data": {
      "text/plain": [
       "<AxesSubplot:xlabel='Pclass,Embarked'>"
      ]
     },
     "execution_count": 112,
     "metadata": {},
     "output_type": "execute_result"
    },
    {
     "data": {
      "image/png": "[encoded data removed]",
      "text/plain": [
       "<Figure size 432x288 with 1 Axes>"
      ]
     },
     "metadata": {
      "needs_background": "light"
     },
     "output_type": "display_data"
    }
   ],
   "source": [
    "#find which port is the most used\n",
    "#C = Cherbourg, Q = Queenstown, S = Southampton\n",
    "df['Embarked'].groupby(df['Pclass']).value_counts().plot(kind='bar')"
   ]
  },
  {
   "cell_type": "code",
   "execution_count": 118,
   "id": "northern-incident",
   "metadata": {},
   "outputs": [],
   "source": [
    "#since missing values are less than 1% and Southampton is the most frequent port\n",
    "#fill missing values with S\n",
    "df['Embarked'].fillna('S', inplace=True)"
   ]
  },
  {
   "cell_type": "code",
   "execution_count": 119,
   "id": "elegant-burning",
   "metadata": {},
   "outputs": [
    {
     "data": {
      "text/plain": [
       "<AxesSubplot:>"
      ]
     },
     "execution_count": 119,
     "metadata": {},
     "output_type": "execute_result"
    },
    {
     "data": {
      "image/png": "[encoded data removed]",
      "text/plain": [
       "<Figure size 432x288 with 2 Axes>"
      ]
     },
     "metadata": {
      "needs_background": "light"
     },
     "output_type": "display_data"
    }
   ],
   "source": [
    "#check again\n",
    "sns.heatmap(df.isnull())"
   ]
  },
  {
   "cell_type": "markdown",
   "id": "empirical-poverty",
   "metadata": {},
   "source": [
    "## Exploration/answer questions"
   ]
  },
  {
   "cell_type": "markdown",
   "id": "clinical-abuse",
   "metadata": {},
   "source": [
    "## Part I:which gender survive more?"
   ]
  },
  {
   "cell_type": "code",
   "execution_count": 144,
   "id": "diagnostic-holly",
   "metadata": {},
   "outputs": [
    {
     "name": "stderr",
     "output_type": "stream",
     "text": [
      "C:\\Users\\Me\\Anaconda3\\lib\\site-packages\\seaborn\\_decorators.py:43: FutureWarning: Pass the following variable as a keyword arg: x. From version 0.12, the only valid positional argument will be `data`, and passing other arguments without an explicit keyword will result in an error or misinterpretation.\n",
      "  FutureWarning\n"
     ]
    },
    {
     "data": {
      "text/plain": [
       "<AxesSubplot:xlabel='Sex', ylabel='count'>"
      ]
     },
     "execution_count": 144,
     "metadata": {},
     "output_type": "execute_result"
    },
    {
     "data": {
      "image/png": "[encoded data removed]",
      "text/plain": [
       "<Figure size 432x288 with 1 Axes>"
      ]
     },
     "metadata": {
      "needs_background": "light"
     },
     "output_type": "display_data"
    }
   ],
   "source": [
    "#survive count based on gender\n",
    "sns.countplot(df['Sex'], hue=df['Survived'])\n",
    "plt.legend(loc='upper right')"
   ]
  },
  {
   "cell_type": "markdown",
   "id": "hundred-hundred",
   "metadata": {},
   "source": [
    "This graph shows that women are more likly to survive than men."
   ]
  },
  {
   "cell_type": "code",
   "execution_count": 161,
   "id": "smooth-courtesy",
   "metadata": {},
   "outputs": [
    {
     "data": {
      "text/plain": [
       "Sex\n",
       "female    233\n",
       "male      109\n",
       "Name: Survived, dtype: int64"
      ]
     },
     "execution_count": 161,
     "metadata": {},
     "output_type": "execute_result"
    }
   ],
   "source": [
    "df[df['Survived']==1].groupby(df['Sex']).count()['Survived']"
   ]
  },
  {
   "cell_type": "code",
   "execution_count": 160,
   "id": "grave-fabric",
   "metadata": {},
   "outputs": [
    {
     "data": {
      "text/plain": [
       "Sex\n",
       "female     81\n",
       "male      468\n",
       "Name: Survived, dtype: int64"
      ]
     },
     "execution_count": 160,
     "metadata": {},
     "output_type": "execute_result"
    }
   ],
   "source": [
    "df[df['Survived']==0].groupby(df['Sex']).count()['Survived']"
   ]
  },
  {
   "cell_type": "markdown",
   "id": "unsigned-assist",
   "metadata": {},
   "source": [
    "## Part II: does pclass affect survival rate"
   ]
  },
  {
   "cell_type": "code",
   "execution_count": 162,
   "id": "unsigned-triple",
   "metadata": {},
   "outputs": [
    {
     "name": "stderr",
     "output_type": "stream",
     "text": [
      "C:\\Users\\Me\\Anaconda3\\lib\\site-packages\\seaborn\\_decorators.py:43: FutureWarning: Pass the following variable as a keyword arg: x. From version 0.12, the only valid positional argument will be `data`, and passing other arguments without an explicit keyword will result in an error or misinterpretation.\n",
      "  FutureWarning\n"
     ]
    },
    {
     "data": {
      "text/plain": [
       "<matplotlib.legend.Legend at 0x275f8002320>"
      ]
     },
     "execution_count": 162,
     "metadata": {},
     "output_type": "execute_result"
    },
    {
     "data": {
      "image/png": "[encoded data removed]",
      "text/plain": [
       "<Figure size 432x288 with 1 Axes>"
      ]
     },
     "metadata": {
      "needs_background": "light"
     },
     "output_type": "display_data"
    }
   ],
   "source": [
    "#survival count based on ticket class\n",
    "sns.countplot(df['Pclass'], hue=df['Survived'])\n",
    "plt.legend(loc='upper right')"
   ]
  },
  {
   "cell_type": "markdown",
   "id": "palestinian-myrtle",
   "metadata": {},
   "source": [
    "we can clearly see that survival rate for 1st class is higher than other classes.  \n",
    "lets see the survival rate for each gender per class."
   ]
  },
  {
   "cell_type": "code",
   "execution_count": 217,
   "id": "altered-array",
   "metadata": {},
   "outputs": [
    {
     "data": {
      "text/plain": [
       "<AxesSubplot:xlabel='Pclass,Sex,Survived'>"
      ]
     },
     "execution_count": 217,
     "metadata": {},
     "output_type": "execute_result"
    },
    {
     "data": {
      "image/png": "[encoded data removed]",
      "text/plain": [
       "<Figure size 432x288 with 1 Axes>"
      ]
     },
     "metadata": {
      "needs_background": "light"
     },
     "output_type": "display_data"
    }
   ],
   "source": [
    "#maybe gender plays a role here more than pclass\n",
    "df.groupby([df['Pclass'],df['Sex'], df['Survived']]).count()['PassengerId'].plot(kind='bar')"
   ]
  },
  {
   "cell_type": "markdown",
   "id": "surprised-supplement",
   "metadata": {},
   "source": [
    "looks like that women in first class are the one with most survival rate while men don't benfit from the higher class"
   ]
  },
  {
   "cell_type": "code",
   "execution_count": 215,
   "id": "ultimate-while",
   "metadata": {},
   "outputs": [
    {
     "data": {
      "text/plain": [
       "Pclass  Sex     Survived\n",
       "1       female  0           0.003367\n",
       "                1           0.102132\n",
       "        male    0           0.086420\n",
       "                1           0.050505\n",
       "2       female  0           0.006734\n",
       "                1           0.078563\n",
       "        male    0           0.102132\n",
       "                1           0.019080\n",
       "3       female  0           0.080808\n",
       "                1           0.080808\n",
       "        male    0           0.336700\n",
       "                1           0.052750\n",
       "Name: PassengerId, dtype: float64"
      ]
     },
     "execution_count": 215,
     "metadata": {},
     "output_type": "execute_result"
    }
   ],
   "source": [
    "df.groupby([df['Pclass'],df['Sex'], df['Survived']]).count()['PassengerId']/len(df)"
   ]
  },
  {
   "cell_type": "code",
   "execution_count": 129,
   "id": "compressed-pleasure",
   "metadata": {},
   "outputs": [
    {
     "data": {
      "text/plain": [
       "3    491\n",
       "1    216\n",
       "2    184\n",
       "Name: Pclass, dtype: int64"
      ]
     },
     "execution_count": 129,
     "metadata": {},
     "output_type": "execute_result"
    }
   ],
   "source": [
    "#num of passenger per class\n",
    "df['Pclass'].value_counts()"
   ]
  },
  {
   "cell_type": "markdown",
   "id": "concerned-stations",
   "metadata": {},
   "source": [
    "## Part III:does parents/children affect survival rate"
   ]
  },
  {
   "cell_type": "code",
   "execution_count": 141,
   "id": "cross-trouble",
   "metadata": {
    "scrolled": true
   },
   "outputs": [
    {
     "name": "stderr",
     "output_type": "stream",
     "text": [
      "C:\\Users\\Me\\Anaconda3\\lib\\site-packages\\seaborn\\_decorators.py:43: FutureWarning: Pass the following variable as a keyword arg: x. From version 0.12, the only valid positional argument will be `data`, and passing other arguments without an explicit keyword will result in an error or misinterpretation.\n",
      "  FutureWarning\n"
     ]
    },
    {
     "data": {
      "text/plain": [
       "<matplotlib.legend.Legend at 0x275fa431080>"
      ]
     },
     "execution_count": 141,
     "metadata": {},
     "output_type": "execute_result"
    },
    {
     "data": {
      "image/png": "[encoded data removed]",
      "text/plain": [
       "<Figure size 432x288 with 1 Axes>"
      ]
     },
     "metadata": {
      "needs_background": "light"
     },
     "output_type": "display_data"
    }
   ],
   "source": [
    "#survival count per number of parents/children\n",
    "sns.countplot(df['Parch'], hue=df['Survived'])\n",
    "plt.legend(loc='upper right')"
   ]
  },
  {
   "cell_type": "markdown",
   "id": "african-diagram",
   "metadata": {},
   "source": [
    "form this we can see that being single has the highest survival rate and also the higeghst death count.  \n",
    "meanwhile having one parent/child with has higher chances of surviving than dying.  \n",
    "lets devide by gender to see if we can find something."
   ]
  },
  {
   "cell_type": "code",
   "execution_count": 341,
   "id": "brave-albany",
   "metadata": {},
   "outputs": [
    {
     "data": {
      "text/plain": [
       "<AxesSubplot:xlabel='Parch,Sex,Survived'>"
      ]
     },
     "execution_count": 341,
     "metadata": {},
     "output_type": "execute_result"
    },
    {
     "data": {
      "image/png": "[encoded data removed]",
      "text/plain": [
       "<Figure size 864x432 with 1 Axes>"
      ]
     },
     "metadata": {
      "needs_background": "light"
     },
     "output_type": "display_data"
    }
   ],
   "source": [
    "#with gender\n",
    "plt.figure(figsize=(12, 6))\n",
    "df.groupby([df['Parch'], df['Sex'], df['Survived']]).count()['PassengerId'].plot(kind='bar')"
   ]
  },
  {
   "cell_type": "markdown",
   "id": "convinced-lighter",
   "metadata": {},
   "source": [
    "if we look at sheer count only it looks like that being single increases chanses of surviving but in reality it doesn't affect the survival rate.  \n"
   ]
  },
  {
   "cell_type": "markdown",
   "id": "renewable-future",
   "metadata": {},
   "source": [
    "## ML Model"
   ]
  },
  {
   "cell_type": "markdown",
   "id": "global-diabetes",
   "metadata": {},
   "source": [
    "## Part IV: Let's see if we will survive"
   ]
  },
  {
   "cell_type": "code",
   "execution_count": 218,
   "id": "derived-mineral",
   "metadata": {},
   "outputs": [],
   "source": [
    "#prepare data for ML\n",
    "#drop passengerId\n",
    "df.drop('PassengerId', axis=1, inplace=True)\n",
    "df.drop('Ticket', axis=1, inplace=True)\n",
    "\n",
    "#extract title from name 1= Mr, 2= Mrs, 3= Miss, 0= no title\n",
    "df['Name']= df['Name'].apply(lambda x : 1 if 'Mr.' in x else(2 if 'Mrs.' in x else (3 if 'Miss.' in x else 0)) )\n",
    "\n",
    "#make dummies for Sex and Embarked\n",
    "dum= pd.get_dummies(df[['Sex', 'Embarked']], drop_first=True)\n",
    "#drop orignal columns\n",
    "df.drop('Sex', axis=1, inplace=True)\n",
    "df.drop('Embarked', axis=1, inplace=True)\n",
    "#merge\n",
    "df= pd.concat([df, dum], axis=1)\n",
    "\n",
    "#normilaze the data\n",
    "from sklearn.preprocessing import MinMaxScaler\n",
    "\n",
    "#spit data\n",
    "x= df.drop('Survived', axis=1)\n",
    "y= df['Survived']\n",
    "\n",
    "#scale x\n",
    "scaler=MinMaxScaler()\n",
    "x= scaler.fit_transform(x)\n",
    "\n",
    "#import model\n",
    "from sklearn.linear_model import LogisticRegression\n",
    "model= LogisticRegression()\n",
    "model.fit(x, y)"
   ]
  },
  {
   "cell_type": "markdown",
   "id": "polish-formula",
   "metadata": {},
   "source": [
    "## Part IV.II: evalute"
   ]
  },
  {
   "cell_type": "code",
   "execution_count": 250,
   "id": "stunning-break",
   "metadata": {},
   "outputs": [],
   "source": [
    "#import test(features) data and prepare it\n",
    "df_test= pd.read_csv('titanic/test.csv')\n",
    "\n",
    "#fill missing values\n",
    "def fill_age(col):\n",
    "    \"\"\"\n",
    "    input- dataframe with 3 columns in order (Sex, Pclass, Age)\n",
    "    ------------------\n",
    "    output- return the average age based on Pclass and Sex\n",
    "    \"\"\"\n",
    "    aa={'male': {1: 41.0, 2: 31.0, 3: 27.0},\n",
    "         'female': {1: 35.0, 2: 29.0, 3: 22.0}}\n",
    "    if pd.isnull(col[2]):\n",
    "        return aa[col[0]][col[1]]\n",
    "    else:\n",
    "        return col[2]\n",
    "    \n",
    "df_test['Age']= df_test[['Sex','Pclass', 'Age']].apply(fill_age, axis=1)"
   ]
  },
  {
   "cell_type": "code",
   "execution_count": 258,
   "id": "invalid-charity",
   "metadata": {},
   "outputs": [
    {
     "data": {
      "text/plain": [
       "Pclass\n",
       "1    94.280297\n",
       "2    22.202104\n",
       "3    12.459678\n",
       "Name: Fare, dtype: float64"
      ]
     },
     "execution_count": 258,
     "metadata": {},
     "output_type": "execute_result"
    }
   ],
   "source": [
    "#get mean manually\n",
    "df_test['Fare'].groupby(df_test['Pclass']).mean()"
   ]
  },
  {
   "cell_type": "code",
   "execution_count": 263,
   "id": "lasting-confidence",
   "metadata": {},
   "outputs": [],
   "source": [
    "#fill with class 3 average fare\n",
    "df_test.loc[152, 'Fare']=12.459678"
   ]
  },
  {
   "cell_type": "code",
   "execution_count": 266,
   "id": "intimate-madrid",
   "metadata": {},
   "outputs": [],
   "source": [
    "#fill emarked with S\n",
    "df_test['Embarked'].fillna('S', inplace=True)\n",
    "df_test.drop('Cabin', axis=1, inplace=True)\n",
    "df_test.drop('Ticket', axis=1, inplace=True)\n",
    "df_test.drop('PassengerId', axis=1, inplace=True)"
   ]
  },
  {
   "cell_type": "code",
   "execution_count": 278,
   "id": "reserved-therapy",
   "metadata": {},
   "outputs": [],
   "source": [
    "df_test['Name']= df_test['Name'].apply(lambda x : 1 if 'Mr.' in x else(2 if 'Mrs.' in x else (3 if 'Miss.' in x else 0)) )\n",
    "\n",
    "#make dummies for Sex and Embarked\n",
    "dum= pd.get_dummies(df_test[['Sex', 'Embarked']], drop_first=True)\n",
    "\n",
    "#drop orignal columns\n",
    "df_test.drop('Sex', axis=1, inplace=True)\n",
    "df_test.drop('Embarked', axis=1, inplace=True)\n",
    "\n",
    "#merge\n",
    "df_test= pd.concat([df_test, dum], axis=1)"
   ]
  },
  {
   "cell_type": "code",
   "execution_count": 280,
   "id": "brown-column",
   "metadata": {},
   "outputs": [],
   "source": [
    "#import test labels\n",
    "y_test= pd.read_csv('titanic/gender_submission.csv')\n",
    "y_test.drop('PassengerId', axis=1, inplace=True)"
   ]
  },
  {
   "cell_type": "code",
   "execution_count": 282,
   "id": "practical-commission",
   "metadata": {},
   "outputs": [],
   "source": [
    "x_test= scaler.transform(df_test)\n",
    "y_pred= model.predict(x_test)"
   ]
  },
  {
   "cell_type": "code",
   "execution_count": 289,
   "id": "natural-state",
   "metadata": {},
   "outputs": [
    {
     "name": "stdout",
     "output_type": "stream",
     "text": [
      "classification_report:\n",
      "              precision    recall  f1-score   support\n",
      "\n",
      "           0       0.96      0.97      0.96       266\n",
      "           1       0.94      0.93      0.94       152\n",
      "\n",
      "    accuracy                           0.95       418\n",
      "   macro avg       0.95      0.95      0.95       418\n",
      "weighted avg       0.95      0.95      0.95       418\n",
      "\n",
      "#######################################################\n",
      "confusion_matrix:\n",
      "[[257   9]\n",
      " [ 10 142]]\n",
      "#######################################################\n",
      "r2_score:\n",
      "0.8035714285714286\n"
     ]
    }
   ],
   "source": [
    "#evalutae\n",
    "print('classification_report:')\n",
    "print(classification_report(y_test, y_pred))\n",
    "print('#######################################################')\n",
    "print('confusion_matrix:')\n",
    "print(confusion_matrix(y_test, y_pred))\n",
    "print('#######################################################')\n",
    "print('r2_score:')\n",
    "print(r2_score(y_test, y_pred))"
   ]
  },
  {
   "cell_type": "markdown",
   "id": "agreed-shelf",
   "metadata": {},
   "source": [
    "## Part IV.III: Will you survive?"
   ]
  },
  {
   "cell_type": "code",
   "execution_count": 315,
   "id": "ordered-passage",
   "metadata": {},
   "outputs": [],
   "source": [
    "#lets predict if we die or not\n",
    "#Order: \n",
    "#ticket class(1, 2, 3)\n",
    "#Name(0= None, 1=Mr ,2=Mrs ,3=Miss)\n",
    "#Age (number)\n",
    "#number of siplings/ spouse (number)\n",
    "#number of parents/ children (number)\n",
    "#fare (number)\n",
    "#male (0=no, 1=yes)\n",
    "#embarked from Queenstown (0=no, 1=yes)\n",
    "#embarked from Southampton (0=no, 1=yes)\n",
    "#if both Queenstown and Southhampton are 0 then you will embark from Cherbourg\n",
    "me= np.array([1, 0, 26.0, 0, 0, 100.0, 1, 0, 1])\n",
    "me= scaler.transform(me.reshape(1, -1))\n",
    "pred= model.predict(me)"
   ]
  },
  {
   "cell_type": "code",
   "execution_count": 318,
   "id": "exclusive-jewel",
   "metadata": {},
   "outputs": [
    {
     "name": "stdout",
     "output_type": "stream",
     "text": [
      "[0]\n"
     ]
    }
   ],
   "source": [
    "#sad really\n",
    "print(pred)"
   ]
  }
 ],
 "metadata": {
  "kernelspec": {
   "display_name": "Python 3",
   "language": "python",
   "name": "python3"
  },
  "language_info": {
   "codemirror_mode": {
    "name": "ipython",
    "version": 3
   },
   "file_extension": ".py",
   "mimetype": "text/x-python",
   "name": "python",
   "nbconvert_exporter": "python",
   "pygments_lexer": "ipython3",
   "version": "3.7.3"
  }
 },
 "nbformat": 4,
 "nbformat_minor": 5
}
